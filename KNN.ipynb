{
 "cells": [
  {
   "cell_type": "code",
   "execution_count": 110,
   "metadata": {},
   "outputs": [],
   "source": [
    "from sklearn.datasets import load_digits \n",
    "import matplotlib.pyplot as plt\n",
    "import numpy as np\n",
    "from sklearn.neighbors import KNeighborsClassifier\n",
    "from sklearn.model_selection import train_test_split\n",
    "from sklearn.metrics import confusion_matrix"
   ]
  },
  {
   "cell_type": "code",
   "execution_count": 111,
   "metadata": {},
   "outputs": [],
   "source": [
    "digits=load_digits()\n",
    "X=digits.data\n",
    "y=digits.target"
   ]
  },
  {
   "cell_type": "code",
   "execution_count": 112,
   "metadata": {},
   "outputs": [],
   "source": [
    "x_train,x_test,y_train,y_test=train_test_split(X,y,test_size=0.3)\n",
    "knn=KNeighborsClassifier(n_neighbors=3)\n",
    "knn.fit(x_train,y_train)\n",
    "y_pred=knn.predict(x_test)"
   ]
  },
  {
   "cell_type": "code",
   "execution_count": 113,
   "metadata": {},
   "outputs": [
    {
     "name": "stdout",
     "output_type": "stream",
     "text": [
      "[4 7 7 4 2 0 0 6 5 4 8 7 7 4 8 8 1 3 4 2 1 0 6 5 0 9 6 9 6 8 0 8 9 4 3 1 5\n",
      " 3 3 0 0 1 8 2 7 0 7 4 6 1 1 8 6 5 0 6 0 1 4 7 2 4 6 9 2 2 0 3 2 2 5 3 6 0\n",
      " 4 2 0 1 3 3 3 9 9 2 1 7 5 7 9 7 9 4 4 9 6 6 5 9 3 8 5 8 2 4 2 6 3 3 1 5 8\n",
      " 8 4 3 6 5 5 4 0 4 5 8 1 3 3 4 5 0 4 8 0 0 0 7 6 1 6 5 1 1 8 4 5 4 4 8 6 3\n",
      " 6 7 5 9 9 5 9 2 7 3 6 7 0 1 4 0 1 8 6 8 6 9 6 2 8 2 3 4 3 9 0 0 5 4 3 5 6\n",
      " 4 9 4 2 5 3 8 5 2 9 7 3 5 0 9 2 0 9 1 6 3 7 0 3 1 5 7 6 3 9 9 3 5 7 3 6 5\n",
      " 6 5 0 9 3 3 9 0 5 4 4 2 5 4 2 3 6 5 9 1 0 8 4 0 1 1 6 4 4 2 7 3 2 3 5 5 7\n",
      " 9 6 0 1 0 6 0 7 9 7 3 5 8 3 8 3 1 2 9 2 8 6 9 0 3 2 0 5 9 2 5 1 1 4 3 6 0\n",
      " 4 3 6 8 1 8 4 1 2 8 4 0 4 7 3 0 0 8 6 8 6 2 5 6 4 0 1 1 5 3 7 1 5 0 5 8 0\n",
      " 1 7 1 3 9 8 5 1 3 2 8 8 3 6 5 6 6 4 4 3 9 5 1 6 3 7 7 0 2 7 5 6 1 0 5 9 9\n",
      " 5 1 1 3 4 4 6 8 1 4 3 0 9 4 3 5 4 8 2 3 2 6 8 4 2 4 8 7 9 3 2 1 9 7 7 2 2\n",
      " 0 4 2 5 1 4 2 3 6 0 9 7 5 9 9 9 4 6 8 8 4 8 5 5 9 1 4 7 9 4 8 4 2 3 8 2 7\n",
      " 6 9 6 2 1 0 4 2 3 7 0 6 1 9 1 9 4 1 6 6 7 2 0 0 6 3 6 9 9 7 3 7 5 0 7 5 2\n",
      " 9 1 6 9 5 1 4 3 3 3 5 9 5 7 5 3 3 6 9 1 9 5 2 3 2 0 7 7 0 8 6 2 0 2 4 2 2\n",
      " 1 3 9 0 8 1 9 6 6 6 3 8 9 0 9 9 9 8 5 3 8 7]\n"
     ]
    }
   ],
   "source": [
    "print(y_pred)"
   ]
  },
  {
   "cell_type": "code",
   "execution_count": 114,
   "metadata": {},
   "outputs": [
    {
     "name": "stdout",
     "output_type": "stream",
     "text": [
      "0.9833333333333333\n"
     ]
    }
   ],
   "source": [
    "print(knn.score(x_test,y_test))"
   ]
  },
  {
   "cell_type": "code",
   "execution_count": 115,
   "metadata": {},
   "outputs": [
    {
     "name": "stdout",
     "output_type": "stream",
     "text": [
      "[[56  0  0  0  0  0  0  0  0  0]\n",
      " [ 0 48  0  0  0  0  0  0  1  1]\n",
      " [ 0  0 50  0  0  0  0  0  0  0]\n",
      " [ 0  0  0 62  0  0  0  0  1  1]\n",
      " [ 0  0  0  0 58  0  0  0  0  0]\n",
      " [ 0  0  0  0  0 55  0  0  0  2]\n",
      " [ 0  0  0  0  0  0 58  0  0  0]\n",
      " [ 0  0  0  1  0  0  0 42  0  0]\n",
      " [ 0  0  0  1  0  0  0  0 44  1]\n",
      " [ 0  0  0  0  0  0  0  0  0 58]]\n"
     ]
    }
   ],
   "source": [
    "# Confusion matrix\n",
    "cm=confusion_matrix(y_pred,y_test)\n",
    "print(cm)"
   ]
  },
  {
   "cell_type": "code",
   "execution_count": 116,
   "metadata": {},
   "outputs": [
    {
     "data": {
      "image/png": "[encoded data removed]",
      "text/plain": [
       "<Figure size 640x480 with 2 Axes>"
      ]
     },
     "metadata": {},
     "output_type": "display_data"
    }
   ],
   "source": [
    "from seaborn import heatmap\n",
    "hm=heatmap(cm,annot=True)"
   ]
  },
  {
   "cell_type": "code",
   "execution_count": 117,
   "metadata": {},
   "outputs": [
    {
     "name": "stdout",
     "output_type": "stream",
     "text": [
      "Classification report\n",
      "               precision    recall  f1-score   support\n",
      "\n",
      "           0       1.00      1.00      1.00        56\n",
      "           1       1.00      0.96      0.98        50\n",
      "           2       1.00      1.00      1.00        50\n",
      "           3       0.97      0.97      0.97        64\n",
      "           4       1.00      1.00      1.00        58\n",
      "           5       1.00      0.96      0.98        57\n",
      "           6       1.00      1.00      1.00        58\n",
      "           7       1.00      0.98      0.99        43\n",
      "           8       0.96      0.96      0.96        46\n",
      "           9       0.92      1.00      0.96        58\n",
      "\n",
      "    accuracy                           0.98       540\n",
      "   macro avg       0.98      0.98      0.98       540\n",
      "weighted avg       0.98      0.98      0.98       540\n",
      "\n"
     ]
    }
   ],
   "source": [
    "# Classification report \n",
    "from sklearn.metrics   import classification_report\n",
    "print(\"Classification report\\n\",classification_report(y_pred,y_test))"
   ]
  }
 ],
 "metadata": {
  "kernelspec": {
   "display_name": "Python 3",
   "language": "python",
   "name": "python3"
  },
  "language_info": {
   "codemirror_mode": {
    "name": "ipython",
    "version": 3
   },
   "file_extension": ".py",
   "mimetype": "text/x-python",
   "name": "python",
   "nbconvert_exporter": "python",
   "pygments_lexer": "ipython3",
   "version": "3.12.1"
  }
 },
 "nbformat": 4,
 "nbformat_minor": 2
}
